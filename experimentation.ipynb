{
 "cells": [
  {
   "cell_type": "markdown",
   "metadata": {},
   "source": [
    "# Pocket text classification\n",
    "\n",
    "This project aims to, somehow, automatically create tags for Pocket articles. \n",
    "It considers your currently tagged Pocket articles to determine new tags.\n",
    "\n",
    "## Getting content from Pocket\n",
    "\n",
    "I've already done it, so I won't cover it right now... however, I'll add it here when possible.\n",
    "\n",
    "## Preparing our data\n",
    "\n",
    "We have two (real) sets of data: tagged (manually) and untagged articles. These articles are of many kinds, which I usually read (or queue for eternity) on the commute to work. \n",
    "\n",
    "I used to tag them, but it became really hard to catch up, so I decided to do it automatically somehow.\n",
    "\n",
    "We want to find out the correlation between the article's text (which we acquired in [Getting content from Pocket](#Getting-content-from-Pocket) and the tags I added to them. We want to find features, or stuff that seems to be the relation between article and tag (words that define the content of the article, in a way).\n",
    "\n",
    "### Loading and playing with our data set\n",
    "\n",
    "Opening the json file (```'item_id', 'resolved_url', 'tags'``` are from the Pocket API, `'text'` comes from running BeautifulSoup on all articles, mentioned on [Getting content from Pocket](#Getting-content-from-Pocket))"
   ]
  },
  {
   "cell_type": "code",
   "execution_count": 22,
   "metadata": {},
   "outputs": [
    {
     "name": "stdout",
     "output_type": "stream",
     "text": [
      "dict_keys(['item_id', 'resolved_url', 'tags', 'text'])\n"
     ]
    }
   ],
   "source": [
    "import json\n",
    "fd = open(\"tagged_text.json\")\n",
    "tagged_text_list = json.loads(fd.read())\n",
    "print(tagged_text_list[0].keys())"
   ]
  },
  {
   "cell_type": "markdown",
   "metadata": {},
   "source": [
    "#### Tokenizing our text"
   ]
  },
  {
   "cell_type": "code",
   "execution_count": 51,
   "metadata": {},
   "outputs": [
    {
     "name": "stderr",
     "output_type": "stream",
     "text": [
      "[nltk_data] Downloading package punkt to\n",
      "[nltk_data]     /Users/vinicyusmacedo/nltk_data...\n",
      "[nltk_data]   Package punkt is already up-to-date!\n"
     ]
    }
   ],
   "source": [
    "from nltk import download, word_tokenize\n",
    "download('punkt')\n",
    "\n",
    "test_text = tagged_text_list[0].get('text')\n",
    "tokens = word_tokenize(test_text)"
   ]
  },
  {
   "cell_type": "markdown",
   "metadata": {},
   "source": [
    "#### Getting the most common words from our text"
   ]
  },
  {
   "cell_type": "code",
   "execution_count": 52,
   "metadata": {},
   "outputs": [
    {
     "data": {
      "text/plain": [
       "[('the', 221),\n",
       " (',', 195),\n",
       " ('of', 139),\n",
       " ('.', 131),\n",
       " ('to', 121),\n",
       " ('and', 112),\n",
       " ('a', 111),\n",
       " ('’', 95),\n",
       " ('that', 82),\n",
       " ('“', 73),\n",
       " ('”', 69),\n",
       " ('in', 60),\n",
       " ('is', 54),\n",
       " ('for', 49),\n",
       " ('you', 45),\n",
       " ('s', 44),\n",
       " ('incel', 41),\n",
       " ('with', 40),\n",
       " ('as', 39),\n",
       " ('community', 36),\n",
       " ('men', 35),\n",
       " ('it', 33),\n",
       " ('are', 29),\n",
       " ('be', 28),\n",
       " ('i', 25),\n",
       " ('this', 25),\n",
       " ('—', 25),\n",
       " ('about', 24),\n",
       " ('on', 24),\n",
       " ('incels', 24),\n",
       " ('they', 24),\n",
       " ('health', 23),\n",
       " ('but', 23),\n",
       " ('mental', 22),\n",
       " ('more', 22),\n",
       " ('or', 21),\n",
       " ('who', 21),\n",
       " ('have', 21),\n",
       " ('by', 20),\n",
       " ('he', 20),\n",
       " ('them', 20),\n",
       " ('can', 19),\n",
       " ('their', 18),\n",
       " ('one', 18),\n",
       " ('an', 17),\n",
       " (':', 17),\n",
       " ('members', 17),\n",
       " ('me', 17),\n",
       " ('women', 15),\n",
       " ('at', 15),\n",
       " ('idea', 15),\n",
       " ('t', 15),\n",
       " ('support', 14),\n",
       " ('vox', 14),\n",
       " ('culture', 14),\n",
       " ('re', 14),\n",
       " ('told', 14),\n",
       " ('all', 13),\n",
       " ('people', 13),\n",
       " ('therapy', 13),\n",
       " ('from', 13),\n",
       " ('not', 13),\n",
       " ('said', 13),\n",
       " ('what', 12),\n",
       " ('us', 12),\n",
       " ('up', 12),\n",
       " ('violent', 12),\n",
       " ('if', 12),\n",
       " ('was', 12),\n",
       " ('way', 12),\n",
       " ('pill', 12),\n",
       " ('some', 11),\n",
       " ('how', 11),\n",
       " ('just', 11),\n",
       " ('part', 10),\n",
       " ('misogyny', 10),\n",
       " ('sex', 10),\n",
       " ('we', 10),\n",
       " ('there', 10),\n",
       " ('&', 9),\n",
       " ('love', 9),\n",
       " ('its', 9),\n",
       " ('treatment', 9),\n",
       " ('these', 9),\n",
       " ('black', 9),\n",
       " ('like', 9),\n",
       " ('could', 9),\n",
       " (';', 9),\n",
       " ('your', 9),\n",
       " ('own', 8),\n",
       " ('communities', 8),\n",
       " ('help', 8),\n",
       " ('may', 8),\n",
       " ('most', 8),\n",
       " ('spoke', 8),\n",
       " ('while', 8),\n",
       " ('other', 8),\n",
       " ('even', 8),\n",
       " ('do', 8),\n",
       " ('any', 8)]"
      ]
     },
     "execution_count": 52,
     "metadata": {},
     "output_type": "execute_result"
    }
   ],
   "source": [
    "from nltk.probability import FreqDist\n",
    "fdist = FreqDist(word.lower() for word in tokens)\n",
    "fdist.most_common(100)"
   ]
  },
  {
   "cell_type": "markdown",
   "metadata": {},
   "source": [
    "#### Getting the least common words from our text"
   ]
  },
  {
   "cell_type": "code",
   "execution_count": 5,
   "metadata": {},
   "outputs": [
    {
     "data": {
      "text/plain": [
       "[('love', 9),\n",
       " ('its', 9),\n",
       " ('treatment', 9),\n",
       " ('these', 9),\n",
       " ('black', 9),\n",
       " ('like', 9),\n",
       " ('could', 9),\n",
       " (';', 9),\n",
       " ('your', 9),\n",
       " ('own', 8),\n",
       " ('communities', 8),\n",
       " ('help', 8),\n",
       " ('may', 8),\n",
       " ('most', 8),\n",
       " ('spoke', 8),\n",
       " ('while', 8),\n",
       " ('other', 8),\n",
       " ('even', 8),\n",
       " ('do', 8),\n",
       " ('any', 8)]"
      ]
     },
     "execution_count": 5,
     "metadata": {},
     "output_type": "execute_result"
    }
   ],
   "source": [
    "fdist.most_common(100)[-20:]"
   ]
  },
  {
   "cell_type": "markdown",
   "metadata": {},
   "source": [
    "#### Plotting some stuff"
   ]
  },
  {
   "cell_type": "code",
   "execution_count": null,
   "metadata": {},
   "outputs": [],
   "source": [
    "# This is used so jupyter can plot\n",
    "%matplotlib inline\n",
    "fdist.plot()"
   ]
  },
  {
   "cell_type": "markdown",
   "metadata": {},
   "source": [
    "### First possibility: get outstanding words in relation to all articles\n",
    "\n",
    "One possibility is to try to separate common words from outstanding words.\n",
    "\n",
    "We can tokenize all the articles and put them in the same pool of words. Then, we count how many times a word is repeated in all pool of tokens.\n",
    "\n",
    "Common words, such as connectors, nouns, verbs, will probably be very common. In other hand, specific words will repeat less in the pool of tokens (they may repeat a lot in a single article).\n",
    "\n",
    "In other words, we want to find words in an article that have small probability to be found in other articles.\n",
    "\n",
    "First of all, I'll grab all the tokens from a text. Next, I'll grab only the tokens and add them to an array of token occurences (i.e. how many articles does this token appear). It will hold content such as:\n",
    "\n",
    "```json\n",
    "# token, occurences\n",
    "{\"word\": 2}\n",
    "```"
   ]
  },
  {
   "cell_type": "code",
   "execution_count": 50,
   "metadata": {},
   "outputs": [
    {
     "name": "stdout",
     "output_type": "stream",
     "text": [
      "{'incel': 33.33333333333333, 'community': 33.33333333333333, 'men': 33.33333333333333, '—': 33.33333333333333, 'incels': 33.33333333333333, 'their': 33.33333333333333, 'members': 33.33333333333333, 'women': 33.33333333333333, 'idea': 33.33333333333333, 'support': 33.33333333333333, 'vox': 33.33333333333333, 'culture': 33.33333333333333, 'told': 33.33333333333333, 'therapy': 33.33333333333333, 'said': 33.33333333333333, 'us': 33.33333333333333, 'violent': 33.33333333333333, 'way': 33.33333333333333, 'pill': 33.33333333333333, 'part': 33.33333333333333, 'misogyny': 33.33333333333333, 'sex': 33.33333333333333, 'its': 33.33333333333333, 'treatment': 33.33333333333333, 'these': 33.33333333333333, 'black': 33.33333333333333, 'could': 33.33333333333333, ';': 33.33333333333333, 'own': 33.33333333333333, 'communities': 33.33333333333333, 'help': 33.33333333333333, 'may': 33.33333333333333, 'most': 33.33333333333333, 'spoke': 33.33333333333333, 'while': 33.33333333333333, 'any': 33.33333333333333, 'stimming': 33.33333333333333, '2013': 33.33333333333333, 'pm': 33.33333333333333, 'am': 33.33333333333333, 've': 33.33333333333333, 'stim': 33.33333333333333, 'because': 33.33333333333333, 'think': 33.33333333333333, 'january': 33.33333333333333, 'myself': 33.33333333333333, 'musingsofanaspie': 33.33333333333333, 'really': 33.33333333333333, 'aspie': 33.33333333333333, 'feel': 33.33333333333333, 'autistic': 33.33333333333333, 'lot': 33.33333333333333, 'now': 33.33333333333333, 'much': 33.33333333333333, 'stims': 33.33333333333333, 'being': 33.33333333333333, 'new': 33.33333333333333, 'then': 33.33333333333333, 'know': 33.33333333333333, 'will': 33.33333333333333, 'would': 33.33333333333333, 'time': 33.33333333333333, '2014': 33.33333333333333, 'things': 33.33333333333333, '2017': 33.33333333333333, 'july': 33.33333333333333, 'likeliked': 33.33333333333333, 'music': 33.33333333333333, '2': 33.33333333333333, '1': 33.33333333333333, 'song': 33.33333333333333, '3': 33.33333333333333, 'person': 33.33333333333333, 'laina': 33.33333333333333, 'eartharcher': 33.33333333333333, 'autism': 33.33333333333333, 'too': 33.33333333333333, \"''\": 33.33333333333333, '–': 33.33333333333333, 'life': 33.33333333333333, 'head': 33.33333333333333, 'back': 33.33333333333333, 'asperger': 33.33333333333333, \"asperger's/autism\": 33.33333333333333, '/': 33.33333333333333, 'had': 33.33333333333333, \"'s\": 33.33333333333333, 'yeah': 33.33333333333333, 'mind': 33.33333333333333, '2018': 33.33333333333333}\n"
     ]
    }
   ],
   "source": [
    "from nltk.probability import FreqDist\n",
    "token_occurences = {}\n",
    "token_probabilities = {}\n",
    "# We just want to text the 3 first articles right now\n",
    "# tagged_text_list = [text for text in tagged_text_list[0:3]]\n",
    "# Getting all tokens occurences across texts\n",
    "for article in tagged_text_list:\n",
    "    content = article.get('text')\n",
    "    tokens = word_tokenize(content)\n",
    "    fdist = FreqDist(word.lower() for word in tokens)\n",
    "    for word in fdist.most_common(100):\n",
    "        if word[0] in token_occurences.keys():\n",
    "            token_occurences[word[0]] = token_occurences[word[0]] + 1\n",
    "        else:\n",
    "            token_occurences[word[0]] = 1\n",
    "\n",
    "# Calculating token probabilities\n",
    "\n",
    "for token, count in token_occurences.items():\n",
    "    token_probabilities[token] = count / len(tagged_text_list) * 100\n",
    "\n",
    "# Getting words with less than 50% of probability\n",
    "\n",
    "filtered_dict = {}\n",
    "threshold = 50\n",
    "for key, value in token_probabilities.items():\n",
    "    if value <= threshold:\n",
    "        filtered_dict[key] = value\n",
    "\n",
    "print(filtered_dict)"
   ]
  },
  {
   "cell_type": "markdown",
   "metadata": {},
   "source": [
    "Now, we want to see which most common words in an article show as less common words in our word pool."
   ]
  },
  {
   "cell_type": "code",
   "execution_count": 48,
   "metadata": {},
   "outputs": [
    {
     "name": "stdout",
     "output_type": "stream",
     "text": [
      "['incel', 'community', 'men', '—', 'incels', 'their', 'members', 'women', 'idea', 'support', 'vox', 'culture', 'told', 'therapy', 'said', 'us', 'violent', 'way', 'pill', 'part', 'misogyny', 'sex', 'its', 'treatment', 'these', 'black', 'could', ';', 'own', 'communities', 'help', 'may', 'most', 'spoke', 'while', 'any']\n"
     ]
    }
   ],
   "source": [
    "article_features = []\n",
    "article = tagged_text_list[0]\n",
    "content = article.get('text')\n",
    "tokens = word_tokenize(content)\n",
    "fdist = FreqDist(word.lower() for word in tokens)\n",
    "for word in fdist.most_common(100):\n",
    "    if word[0] in filtered_dict.keys():\n",
    "        if word[0] not in article_features:\n",
    "            article_features.append(word[0])\n",
    "print(article_features)"
   ]
  },
  {
   "cell_type": "code",
   "execution_count": null,
   "metadata": {},
   "outputs": [],
   "source": []
  }
 ],
 "metadata": {
  "kernelspec": {
   "display_name": "Python 3",
   "language": "python",
   "name": "python3"
  },
  "language_info": {
   "codemirror_mode": {
    "name": "ipython",
    "version": 3
   },
   "file_extension": ".py",
   "mimetype": "text/x-python",
   "name": "python",
   "nbconvert_exporter": "python",
   "pygments_lexer": "ipython3",
   "version": "3.7.6"
  }
 },
 "nbformat": 4,
 "nbformat_minor": 2
}
